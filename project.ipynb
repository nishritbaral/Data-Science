{
  "cells": [
    {
      "cell_type": "markdown",
      "metadata": {
        "id": "6yHQtGUTHhzs"
      },
      "source": [
        "# Salary Prediction Based on Experience using Linear Regression\n",
        "\n"
      ]
    },
    {
      "cell_type": "markdown",
      "metadata": {},
      "source": [
        "Members:\n",
        "1. Pawan Bhandari - 45\n",
        "2. Nishrit Baral - 42\n",
        "3. Bikalpa Dhungana - 22\n"
        "4. Pranjal Bhatt - 48\n"
      ]
    },
    {
      "cell_type": "markdown",
      "metadata": {
        "id": "XnDY1LcZHtLf"
      },
      "source": [
        "# Import libraries"
      ]
    },
    {
      "cell_type": "code",
      "execution_count": 20,
      "metadata": {
        "id": "YSUMAMhkRRmU"
      },
      "outputs": [],
      "source": [
        "# Import libraries\n",
        "import pandas as pd\n",
        "import numpy as np\n",
        "import matplotlib.pyplot as plt\n",
        "import seaborn as sns\n",
        "from sklearn.model_selection import train_test_split\n",
        "from pandas.core.common import random_state\n",
        "from sklearn.linear_model import LinearRegression"
      ]
    },
    {
      "cell_type": "markdown",
      "metadata": {
        "id": "AOFxARI4HyOH"
      },
      "source": [
        "# Import data"
      ]
    },
    {
      "cell_type": "code",
      "execution_count": null,
      "metadata": {
        "colab": {
          "base_uri": "https://localhost:8080/",
          "height": 204
        },
        "id": "NJdYrmpQR3JQ",
        "outputId": "7e94b34e-f22f-4954-d8c1-55bc07c8b0b2"
      },
      "outputs": [
        {
          "data": {
            "text/html": [
              "<div>\n",
              "<style scoped>\n",
              "    .dataframe tbody tr th:only-of-type {\n",
              "        vertical-align: middle;\n",
              "    }\n",
              "\n",
              "    .dataframe tbody tr th {\n",
              "        vertical-align: top;\n",
              "    }\n",
              "\n",
              "    .dataframe thead th {\n",
              "        text-align: right;\n",
              "    }\n",
              "</style>\n",
              "<table border=\"1\" class=\"dataframe\">\n",
              "  <thead>\n",
              "    <tr style=\"text-align: right;\">\n",
              "      <th></th>\n",
              "      <th>YearsExperience</th>\n",
              "      <th>Salary</th>\n",
              "    </tr>\n",
              "  </thead>\n",
              "  <tbody>\n",
              "    <tr>\n",
              "      <th>0</th>\n",
              "      <td>15.0</td>\n",
              "      <td>43199.75</td>\n",
              "    </tr>\n",
              "    <tr>\n",
              "      <th>1</th>\n",
              "      <td>38.0</td>\n",
              "      <td>121322.54</td>\n",
              "    </tr>\n",
              "    <tr>\n",
              "      <th>2</th>\n",
              "      <td>29.3</td>\n",
              "      <td>95830.72</td>\n",
              "    </tr>\n",
              "    <tr>\n",
              "      <th>3</th>\n",
              "      <td>23.9</td>\n",
              "      <td>69556.49</td>\n",
              "    </tr>\n",
              "    <tr>\n",
              "      <th>4</th>\n",
              "      <td>6.2</td>\n",
              "      <td>42257.75</td>\n",
              "    </tr>\n",
              "  </tbody>\n",
              "</table>\n",
              "</div>"
            ],
            "text/plain": [
              "   YearsExperience     Salary\n",
              "0             15.0   43199.75\n",
              "1             38.0  121322.54\n",
              "2             29.3   95830.72\n",
              "3             23.9   69556.49\n",
              "4              6.2   42257.75"
            ]
          },
          "execution_count": 36,
          "metadata": {},
          "output_type": "execute_result"
        }
      ],
      "source": [
        "# Get dataset\n",
        "df_sal = pd.read_csv('C:/Users/LOQ/OneDrive/Desktop/datascience/Salary_Data.csv')\n",
        "df_sal.head()"
      ]
    },
    {
      "cell_type": "markdown",
      "metadata": {
        "id": "1FXWkvJaIFMB"
      },
      "source": [
        "# Analyze data"
      ]
    },
    {
      "cell_type": "markdown",
      "metadata": {
        "id": "9gMJlqEEb9nd"
      },
      "source": [
        "## Describe"
      ]
    },
    {
      "cell_type": "code",
      "execution_count": 22,
      "metadata": {
        "colab": {
          "base_uri": "https://localhost:8080/",
          "height": 297
        },
        "id": "CbePox7gzX4b",
        "outputId": "e584bbaa-d521-4199-96ef-f8d1160670e5"
      },
      "outputs": [
        {
          "data": {
            "text/html": [
              "<div>\n",
              "<style scoped>\n",
              "    .dataframe tbody tr th:only-of-type {\n",
              "        vertical-align: middle;\n",
              "    }\n",
              "\n",
              "    .dataframe tbody tr th {\n",
              "        vertical-align: top;\n",
              "    }\n",
              "\n",
              "    .dataframe thead th {\n",
              "        text-align: right;\n",
              "    }\n",
              "</style>\n",
              "<table border=\"1\" class=\"dataframe\">\n",
              "  <thead>\n",
              "    <tr style=\"text-align: right;\">\n",
              "      <th></th>\n",
              "      <th>YearsExperience</th>\n",
              "      <th>Salary</th>\n",
              "    </tr>\n",
              "  </thead>\n",
              "  <tbody>\n",
              "    <tr>\n",
              "      <th>count</th>\n",
              "      <td>200.000000</td>\n",
              "      <td>200.00000</td>\n",
              "    </tr>\n",
              "    <tr>\n",
              "      <th>mean</th>\n",
              "      <td>19.359000</td>\n",
              "      <td>63751.14290</td>\n",
              "    </tr>\n",
              "    <tr>\n",
              "      <th>std</th>\n",
              "      <td>11.794881</td>\n",
              "      <td>36463.45449</td>\n",
              "    </tr>\n",
              "    <tr>\n",
              "      <th>min</th>\n",
              "      <td>0.200000</td>\n",
              "      <td>-4608.84000</td>\n",
              "    </tr>\n",
              "    <tr>\n",
              "      <th>25%</th>\n",
              "      <td>9.175000</td>\n",
              "      <td>31207.30750</td>\n",
              "    </tr>\n",
              "    <tr>\n",
              "      <th>50%</th>\n",
              "      <td>19.800000</td>\n",
              "      <td>60796.33000</td>\n",
              "    </tr>\n",
              "    <tr>\n",
              "      <th>75%</th>\n",
              "      <td>30.250000</td>\n",
              "      <td>95506.62250</td>\n",
              "    </tr>\n",
              "    <tr>\n",
              "      <th>max</th>\n",
              "      <td>39.500000</td>\n",
              "      <td>135976.65000</td>\n",
              "    </tr>\n",
              "  </tbody>\n",
              "</table>\n",
              "</div>"
            ],
            "text/plain": [
              "       YearsExperience        Salary\n",
              "count       200.000000     200.00000\n",
              "mean         19.359000   63751.14290\n",
              "std          11.794881   36463.45449\n",
              "min           0.200000   -4608.84000\n",
              "25%           9.175000   31207.30750\n",
              "50%          19.800000   60796.33000\n",
              "75%          30.250000   95506.62250\n",
              "max          39.500000  135976.65000"
            ]
          },
          "execution_count": 22,
          "metadata": {},
          "output_type": "execute_result"
        }
      ],
      "source": [
        "# Describe data\n",
        "df_sal.describe()"
      ]
    },
    {
      "cell_type": "markdown",
      "metadata": {
        "id": "vFy-2wOAsx08"
      },
      "source": [
        "## Distribution"
      ]
    },
    {
      "cell_type": "code",
      "execution_count": 23,
      "metadata": {
        "colab": {
          "base_uri": "https://localhost:8080/",
          "height": 349
        },
        "id": "P56NxxzaHfvX",
        "outputId": "34e53893-59c5-41ce-c365-d98bd70d9b70"
      },
      "outputs": [
        {
          "name": "stderr",
          "output_type": "stream",
          "text": [
            "C:\\Users\\LOQ\\AppData\\Local\\Temp\\ipykernel_26092\\3676038920.py:3: UserWarning: \n",
            "\n",
            "`distplot` is a deprecated function and will be removed in seaborn v0.14.0.\n",
            "\n",
            "Please adapt your code to use either `displot` (a figure-level function with\n",
            "similar flexibility) or `histplot` (an axes-level function for histograms).\n",
            "\n",
            "For a guide to updating your code to use the new functions, please see\n",
            "https://gist.github.com/mwaskom/de44147ed2974457ad6372750bbe5751\n",
            "\n",
            "  sns.distplot(df_sal['Salary'])\n"
          ]
        },
        {
          "data": {
            "image/png": "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",
            "text/plain": [
              "<Figure size 640x480 with 1 Axes>"
            ]
          },
          "metadata": {},
          "output_type": "display_data"
        }
      ],
      "source": [
        "# Data distribution\n",
        "plt.title('Salary Distribution Plot')\n",
        "sns.distplot(df_sal['Salary'])\n",
        "plt.show()"
      ]
    },
    {
      "cell_type": "markdown",
      "metadata": {
        "id": "zwr4481Qs6KZ"
      },
      "source": [
        "## Relationship between Salary and Experience"
      ]
    },
    {
      "cell_type": "code",
      "execution_count": 24,
      "metadata": {
        "colab": {
          "base_uri": "https://localhost:8080/",
          "height": 295
        },
        "id": "3UqfL5-Gtj7q",
        "outputId": "5fc05cd1-44d3-4a1a-fd77-a5838cab3fc0"
      },
      "outputs": [
        {
          "data": {
            "image/png": "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",
            "text/plain": [
              "<Figure size 640x480 with 1 Axes>"
            ]
          },
          "metadata": {},
          "output_type": "display_data"
        }
      ],
      "source": [
        "# Relationship between Salary and Experience\n",
        "plt.scatter(df_sal['YearsExperience'], df_sal['Salary'], color = 'lightcoral')\n",
        "plt.title('Salary vs Experience')\n",
        "plt.xlabel('Years of Experience')\n",
        "plt.ylabel('Salary')\n",
        "plt.box(False)\n",
        "plt.show()"
      ]
    },
    {
      "cell_type": "markdown",
      "metadata": {
        "id": "3TvmLWaUIOgq"
      },
      "source": [
        "# Split data"
      ]
    },
    {
      "cell_type": "markdown",
      "metadata": {
        "id": "8y6RfklicPjI"
      },
      "source": [
        "## Split into Independent/Dependent variables"
      ]
    },
    {
      "cell_type": "code",
      "execution_count": 26,
      "metadata": {
        "id": "vq66kHfCIAmk"
      },
      "outputs": [],
      "source": [
        "# Splitting variables\n",
        "X = df_sal.iloc[:, :1]  # independent\n",
        "y = df_sal.iloc[:, 1:]  # dependent"
      ]
    },
    {
      "cell_type": "markdown",
      "metadata": {
        "id": "OJbAJtwicXyQ"
      },
      "source": [
        "## Split into Train/Test sets"
      ]
    },
    {
      "cell_type": "code",
      "execution_count": 27,
      "metadata": {
        "id": "RLf8UM5tTu0p"
      },
      "outputs": [],
      "source": [
        "# Splitting dataset into test/train\n",
        "X_train, X_test, y_train, y_test = train_test_split(X, y, test_size = 0.2, random_state = 0)"
      ]
    },
    {
      "cell_type": "markdown",
      "metadata": {
        "id": "zKqnFHc3IVP4"
      },
      "source": [
        "# Train model"
      ]
    },
    {
      "cell_type": "code",
      "execution_count": 29,
      "metadata": {
        "colab": {
          "base_uri": "https://localhost:8080/"
        },
        "id": "ZdS-HSEtf7x8",
        "outputId": "c061dcf2-adc6-40f5-fdba-6fe6da053a32"
      },
      "outputs": [
        {
          "data": {
            "text/html": [
              "<style>#sk-container-id-2 {\n",
              "  /* Definition of color scheme common for light and dark mode */\n",
              "  --sklearn-color-text: #000;\n",
              "  --sklearn-color-text-muted: #666;\n",
              "  --sklearn-color-line: gray;\n",
              "  /* Definition of color scheme for unfitted estimators */\n",
              "  --sklearn-color-unfitted-level-0: #fff5e6;\n",
              "  --sklearn-color-unfitted-level-1: #f6e4d2;\n",
              "  --sklearn-color-unfitted-level-2: #ffe0b3;\n",
              "  --sklearn-color-unfitted-level-3: chocolate;\n",
              "  /* Definition of color scheme for fitted estimators */\n",
              "  --sklearn-color-fitted-level-0: #f0f8ff;\n",
              "  --sklearn-color-fitted-level-1: #d4ebff;\n",
              "  --sklearn-color-fitted-level-2: #b3dbfd;\n",
              "  --sklearn-color-fitted-level-3: cornflowerblue;\n",
              "\n",
              "  /* Specific color for light theme */\n",
              "  --sklearn-color-text-on-default-background: var(--sg-text-color, var(--theme-code-foreground, var(--jp-content-font-color1, black)));\n",
              "  --sklearn-color-background: var(--sg-background-color, var(--theme-background, var(--jp-layout-color0, white)));\n",
              "  --sklearn-color-border-box: var(--sg-text-color, var(--theme-code-foreground, var(--jp-content-font-color1, black)));\n",
              "  --sklearn-color-icon: #696969;\n",
              "\n",
              "  @media (prefers-color-scheme: dark) {\n",
              "    /* Redefinition of color scheme for dark theme */\n",
              "    --sklearn-color-text-on-default-background: var(--sg-text-color, var(--theme-code-foreground, var(--jp-content-font-color1, white)));\n",
              "    --sklearn-color-background: var(--sg-background-color, var(--theme-background, var(--jp-layout-color0, #111)));\n",
              "    --sklearn-color-border-box: var(--sg-text-color, var(--theme-code-foreground, var(--jp-content-font-color1, white)));\n",
              "    --sklearn-color-icon: #878787;\n",
              "  }\n",
              "}\n",
              "\n",
              "#sk-container-id-2 {\n",
              "  color: var(--sklearn-color-text);\n",
              "}\n",
              "\n",
              "#sk-container-id-2 pre {\n",
              "  padding: 0;\n",
              "}\n",
              "\n",
              "#sk-container-id-2 input.sk-hidden--visually {\n",
              "  border: 0;\n",
              "  clip: rect(1px 1px 1px 1px);\n",
              "  clip: rect(1px, 1px, 1px, 1px);\n",
              "  height: 1px;\n",
              "  margin: -1px;\n",
              "  overflow: hidden;\n",
              "  padding: 0;\n",
              "  position: absolute;\n",
              "  width: 1px;\n",
              "}\n",
              "\n",
              "#sk-container-id-2 div.sk-dashed-wrapped {\n",
              "  border: 1px dashed var(--sklearn-color-line);\n",
              "  margin: 0 0.4em 0.5em 0.4em;\n",
              "  box-sizing: border-box;\n",
              "  padding-bottom: 0.4em;\n",
              "  background-color: var(--sklearn-color-background);\n",
              "}\n",
              "\n",
              "#sk-container-id-2 div.sk-container {\n",
              "  /* jupyter's `normalize.less` sets `[hidden] { display: none; }`\n",
              "     but bootstrap.min.css set `[hidden] { display: none !important; }`\n",
              "     so we also need the `!important` here to be able to override the\n",
              "     default hidden behavior on the sphinx rendered scikit-learn.org.\n",
              "     See: https://github.com/scikit-learn/scikit-learn/issues/21755 */\n",
              "  display: inline-block !important;\n",
              "  position: relative;\n",
              "}\n",
              "\n",
              "#sk-container-id-2 div.sk-text-repr-fallback {\n",
              "  display: none;\n",
              "}\n",
              "\n",
              "div.sk-parallel-item,\n",
              "div.sk-serial,\n",
              "div.sk-item {\n",
              "  /* draw centered vertical line to link estimators */\n",
              "  background-image: linear-gradient(var(--sklearn-color-text-on-default-background), var(--sklearn-color-text-on-default-background));\n",
              "  background-size: 2px 100%;\n",
              "  background-repeat: no-repeat;\n",
              "  background-position: center center;\n",
              "}\n",
              "\n",
              "/* Parallel-specific style estimator block */\n",
              "\n",
              "#sk-container-id-2 div.sk-parallel-item::after {\n",
              "  content: \"\";\n",
              "  width: 100%;\n",
              "  border-bottom: 2px solid var(--sklearn-color-text-on-default-background);\n",
              "  flex-grow: 1;\n",
              "}\n",
              "\n",
              "#sk-container-id-2 div.sk-parallel {\n",
              "  display: flex;\n",
              "  align-items: stretch;\n",
              "  justify-content: center;\n",
              "  background-color: var(--sklearn-color-background);\n",
              "  position: relative;\n",
              "}\n",
              "\n",
              "#sk-container-id-2 div.sk-parallel-item {\n",
              "  display: flex;\n",
              "  flex-direction: column;\n",
              "}\n",
              "\n",
              "#sk-container-id-2 div.sk-parallel-item:first-child::after {\n",
              "  align-self: flex-end;\n",
              "  width: 50%;\n",
              "}\n",
              "\n",
              "#sk-container-id-2 div.sk-parallel-item:last-child::after {\n",
              "  align-self: flex-start;\n",
              "  width: 50%;\n",
              "}\n",
              "\n",
              "#sk-container-id-2 div.sk-parallel-item:only-child::after {\n",
              "  width: 0;\n",
              "}\n",
              "\n",
              "/* Serial-specific style estimator block */\n",
              "\n",
              "#sk-container-id-2 div.sk-serial {\n",
              "  display: flex;\n",
              "  flex-direction: column;\n",
              "  align-items: center;\n",
              "  background-color: var(--sklearn-color-background);\n",
              "  padding-right: 1em;\n",
              "  padding-left: 1em;\n",
              "}\n",
              "\n",
              "\n",
              "/* Toggleable style: style used for estimator/Pipeline/ColumnTransformer box that is\n",
              "clickable and can be expanded/collapsed.\n",
              "- Pipeline and ColumnTransformer use this feature and define the default style\n",
              "- Estimators will overwrite some part of the style using the `sk-estimator` class\n",
              "*/\n",
              "\n",
              "/* Pipeline and ColumnTransformer style (default) */\n",
              "\n",
              "#sk-container-id-2 div.sk-toggleable {\n",
              "  /* Default theme specific background. It is overwritten whether we have a\n",
              "  specific estimator or a Pipeline/ColumnTransformer */\n",
              "  background-color: var(--sklearn-color-background);\n",
              "}\n",
              "\n",
              "/* Toggleable label */\n",
              "#sk-container-id-2 label.sk-toggleable__label {\n",
              "  cursor: pointer;\n",
              "  display: flex;\n",
              "  width: 100%;\n",
              "  margin-bottom: 0;\n",
              "  padding: 0.5em;\n",
              "  box-sizing: border-box;\n",
              "  text-align: center;\n",
              "  align-items: start;\n",
              "  justify-content: space-between;\n",
              "  gap: 0.5em;\n",
              "}\n",
              "\n",
              "#sk-container-id-2 label.sk-toggleable__label .caption {\n",
              "  font-size: 0.6rem;\n",
              "  font-weight: lighter;\n",
              "  color: var(--sklearn-color-text-muted);\n",
              "}\n",
              "\n",
              "#sk-container-id-2 label.sk-toggleable__label-arrow:before {\n",
              "  /* Arrow on the left of the label */\n",
              "  content: \"▸\";\n",
              "  float: left;\n",
              "  margin-right: 0.25em;\n",
              "  color: var(--sklearn-color-icon);\n",
              "}\n",
              "\n",
              "#sk-container-id-2 label.sk-toggleable__label-arrow:hover:before {\n",
              "  color: var(--sklearn-color-text);\n",
              "}\n",
              "\n",
              "/* Toggleable content - dropdown */\n",
              "\n",
              "#sk-container-id-2 div.sk-toggleable__content {\n",
              "  max-height: 0;\n",
              "  max-width: 0;\n",
              "  overflow: hidden;\n",
              "  text-align: left;\n",
              "  /* unfitted */\n",
              "  background-color: var(--sklearn-color-unfitted-level-0);\n",
              "}\n",
              "\n",
              "#sk-container-id-2 div.sk-toggleable__content.fitted {\n",
              "  /* fitted */\n",
              "  background-color: var(--sklearn-color-fitted-level-0);\n",
              "}\n",
              "\n",
              "#sk-container-id-2 div.sk-toggleable__content pre {\n",
              "  margin: 0.2em;\n",
              "  border-radius: 0.25em;\n",
              "  color: var(--sklearn-color-text);\n",
              "  /* unfitted */\n",
              "  background-color: var(--sklearn-color-unfitted-level-0);\n",
              "}\n",
              "\n",
              "#sk-container-id-2 div.sk-toggleable__content.fitted pre {\n",
              "  /* unfitted */\n",
              "  background-color: var(--sklearn-color-fitted-level-0);\n",
              "}\n",
              "\n",
              "#sk-container-id-2 input.sk-toggleable__control:checked~div.sk-toggleable__content {\n",
              "  /* Expand drop-down */\n",
              "  max-height: 200px;\n",
              "  max-width: 100%;\n",
              "  overflow: auto;\n",
              "}\n",
              "\n",
              "#sk-container-id-2 input.sk-toggleable__control:checked~label.sk-toggleable__label-arrow:before {\n",
              "  content: \"▾\";\n",
              "}\n",
              "\n",
              "/* Pipeline/ColumnTransformer-specific style */\n",
              "\n",
              "#sk-container-id-2 div.sk-label input.sk-toggleable__control:checked~label.sk-toggleable__label {\n",
              "  color: var(--sklearn-color-text);\n",
              "  background-color: var(--sklearn-color-unfitted-level-2);\n",
              "}\n",
              "\n",
              "#sk-container-id-2 div.sk-label.fitted input.sk-toggleable__control:checked~label.sk-toggleable__label {\n",
              "  background-color: var(--sklearn-color-fitted-level-2);\n",
              "}\n",
              "\n",
              "/* Estimator-specific style */\n",
              "\n",
              "/* Colorize estimator box */\n",
              "#sk-container-id-2 div.sk-estimator input.sk-toggleable__control:checked~label.sk-toggleable__label {\n",
              "  /* unfitted */\n",
              "  background-color: var(--sklearn-color-unfitted-level-2);\n",
              "}\n",
              "\n",
              "#sk-container-id-2 div.sk-estimator.fitted input.sk-toggleable__control:checked~label.sk-toggleable__label {\n",
              "  /* fitted */\n",
              "  background-color: var(--sklearn-color-fitted-level-2);\n",
              "}\n",
              "\n",
              "#sk-container-id-2 div.sk-label label.sk-toggleable__label,\n",
              "#sk-container-id-2 div.sk-label label {\n",
              "  /* The background is the default theme color */\n",
              "  color: var(--sklearn-color-text-on-default-background);\n",
              "}\n",
              "\n",
              "/* On hover, darken the color of the background */\n",
              "#sk-container-id-2 div.sk-label:hover label.sk-toggleable__label {\n",
              "  color: var(--sklearn-color-text);\n",
              "  background-color: var(--sklearn-color-unfitted-level-2);\n",
              "}\n",
              "\n",
              "/* Label box, darken color on hover, fitted */\n",
              "#sk-container-id-2 div.sk-label.fitted:hover label.sk-toggleable__label.fitted {\n",
              "  color: var(--sklearn-color-text);\n",
              "  background-color: var(--sklearn-color-fitted-level-2);\n",
              "}\n",
              "\n",
              "/* Estimator label */\n",
              "\n",
              "#sk-container-id-2 div.sk-label label {\n",
              "  font-family: monospace;\n",
              "  font-weight: bold;\n",
              "  display: inline-block;\n",
              "  line-height: 1.2em;\n",
              "}\n",
              "\n",
              "#sk-container-id-2 div.sk-label-container {\n",
              "  text-align: center;\n",
              "}\n",
              "\n",
              "/* Estimator-specific */\n",
              "#sk-container-id-2 div.sk-estimator {\n",
              "  font-family: monospace;\n",
              "  border: 1px dotted var(--sklearn-color-border-box);\n",
              "  border-radius: 0.25em;\n",
              "  box-sizing: border-box;\n",
              "  margin-bottom: 0.5em;\n",
              "  /* unfitted */\n",
              "  background-color: var(--sklearn-color-unfitted-level-0);\n",
              "}\n",
              "\n",
              "#sk-container-id-2 div.sk-estimator.fitted {\n",
              "  /* fitted */\n",
              "  background-color: var(--sklearn-color-fitted-level-0);\n",
              "}\n",
              "\n",
              "/* on hover */\n",
              "#sk-container-id-2 div.sk-estimator:hover {\n",
              "  /* unfitted */\n",
              "  background-color: var(--sklearn-color-unfitted-level-2);\n",
              "}\n",
              "\n",
              "#sk-container-id-2 div.sk-estimator.fitted:hover {\n",
              "  /* fitted */\n",
              "  background-color: var(--sklearn-color-fitted-level-2);\n",
              "}\n",
              "\n",
              "/* Specification for estimator info (e.g. \"i\" and \"?\") */\n",
              "\n",
              "/* Common style for \"i\" and \"?\" */\n",
              "\n",
              ".sk-estimator-doc-link,\n",
              "a:link.sk-estimator-doc-link,\n",
              "a:visited.sk-estimator-doc-link {\n",
              "  float: right;\n",
              "  font-size: smaller;\n",
              "  line-height: 1em;\n",
              "  font-family: monospace;\n",
              "  background-color: var(--sklearn-color-background);\n",
              "  border-radius: 1em;\n",
              "  height: 1em;\n",
              "  width: 1em;\n",
              "  text-decoration: none !important;\n",
              "  margin-left: 0.5em;\n",
              "  text-align: center;\n",
              "  /* unfitted */\n",
              "  border: var(--sklearn-color-unfitted-level-1) 1pt solid;\n",
              "  color: var(--sklearn-color-unfitted-level-1);\n",
              "}\n",
              "\n",
              ".sk-estimator-doc-link.fitted,\n",
              "a:link.sk-estimator-doc-link.fitted,\n",
              "a:visited.sk-estimator-doc-link.fitted {\n",
              "  /* fitted */\n",
              "  border: var(--sklearn-color-fitted-level-1) 1pt solid;\n",
              "  color: var(--sklearn-color-fitted-level-1);\n",
              "}\n",
              "\n",
              "/* On hover */\n",
              "div.sk-estimator:hover .sk-estimator-doc-link:hover,\n",
              ".sk-estimator-doc-link:hover,\n",
              "div.sk-label-container:hover .sk-estimator-doc-link:hover,\n",
              ".sk-estimator-doc-link:hover {\n",
              "  /* unfitted */\n",
              "  background-color: var(--sklearn-color-unfitted-level-3);\n",
              "  color: var(--sklearn-color-background);\n",
              "  text-decoration: none;\n",
              "}\n",
              "\n",
              "div.sk-estimator.fitted:hover .sk-estimator-doc-link.fitted:hover,\n",
              ".sk-estimator-doc-link.fitted:hover,\n",
              "div.sk-label-container:hover .sk-estimator-doc-link.fitted:hover,\n",
              ".sk-estimator-doc-link.fitted:hover {\n",
              "  /* fitted */\n",
              "  background-color: var(--sklearn-color-fitted-level-3);\n",
              "  color: var(--sklearn-color-background);\n",
              "  text-decoration: none;\n",
              "}\n",
              "\n",
              "/* Span, style for the box shown on hovering the info icon */\n",
              ".sk-estimator-doc-link span {\n",
              "  display: none;\n",
              "  z-index: 9999;\n",
              "  position: relative;\n",
              "  font-weight: normal;\n",
              "  right: .2ex;\n",
              "  padding: .5ex;\n",
              "  margin: .5ex;\n",
              "  width: min-content;\n",
              "  min-width: 20ex;\n",
              "  max-width: 50ex;\n",
              "  color: var(--sklearn-color-text);\n",
              "  box-shadow: 2pt 2pt 4pt #999;\n",
              "  /* unfitted */\n",
              "  background: var(--sklearn-color-unfitted-level-0);\n",
              "  border: .5pt solid var(--sklearn-color-unfitted-level-3);\n",
              "}\n",
              "\n",
              ".sk-estimator-doc-link.fitted span {\n",
              "  /* fitted */\n",
              "  background: var(--sklearn-color-fitted-level-0);\n",
              "  border: var(--sklearn-color-fitted-level-3);\n",
              "}\n",
              "\n",
              ".sk-estimator-doc-link:hover span {\n",
              "  display: block;\n",
              "}\n",
              "\n",
              "/* \"?\"-specific style due to the `<a>` HTML tag */\n",
              "\n",
              "#sk-container-id-2 a.estimator_doc_link {\n",
              "  float: right;\n",
              "  font-size: 1rem;\n",
              "  line-height: 1em;\n",
              "  font-family: monospace;\n",
              "  background-color: var(--sklearn-color-background);\n",
              "  border-radius: 1rem;\n",
              "  height: 1rem;\n",
              "  width: 1rem;\n",
              "  text-decoration: none;\n",
              "  /* unfitted */\n",
              "  color: var(--sklearn-color-unfitted-level-1);\n",
              "  border: var(--sklearn-color-unfitted-level-1) 1pt solid;\n",
              "}\n",
              "\n",
              "#sk-container-id-2 a.estimator_doc_link.fitted {\n",
              "  /* fitted */\n",
              "  border: var(--sklearn-color-fitted-level-1) 1pt solid;\n",
              "  color: var(--sklearn-color-fitted-level-1);\n",
              "}\n",
              "\n",
              "/* On hover */\n",
              "#sk-container-id-2 a.estimator_doc_link:hover {\n",
              "  /* unfitted */\n",
              "  background-color: var(--sklearn-color-unfitted-level-3);\n",
              "  color: var(--sklearn-color-background);\n",
              "  text-decoration: none;\n",
              "}\n",
              "\n",
              "#sk-container-id-2 a.estimator_doc_link.fitted:hover {\n",
              "  /* fitted */\n",
              "  background-color: var(--sklearn-color-fitted-level-3);\n",
              "}\n",
              "</style><div id=\"sk-container-id-2\" class=\"sk-top-container\"><div class=\"sk-text-repr-fallback\"><pre>LinearRegression()</pre><b>In a Jupyter environment, please rerun this cell to show the HTML representation or trust the notebook. <br />On GitHub, the HTML representation is unable to render, please try loading this page with nbviewer.org.</b></div><div class=\"sk-container\" hidden><div class=\"sk-item\"><div class=\"sk-estimator fitted sk-toggleable\"><input class=\"sk-toggleable__control sk-hidden--visually\" id=\"sk-estimator-id-2\" type=\"checkbox\" checked><label for=\"sk-estimator-id-2\" class=\"sk-toggleable__label fitted sk-toggleable__label-arrow\"><div><div>LinearRegression</div></div><div><a class=\"sk-estimator-doc-link fitted\" rel=\"noreferrer\" target=\"_blank\" href=\"https://scikit-learn.org/1.6/modules/generated/sklearn.linear_model.LinearRegression.html\">?<span>Documentation for LinearRegression</span></a><span class=\"sk-estimator-doc-link fitted\">i<span>Fitted</span></span></div></label><div class=\"sk-toggleable__content fitted\"><pre>LinearRegression()</pre></div> </div></div></div></div>"
            ],
            "text/plain": [
              "LinearRegression()"
            ]
          },
          "execution_count": 29,
          "metadata": {},
          "output_type": "execute_result"
        }
      ],
      "source": [
        "# Regressor model\n",
        "regressor = LinearRegression()\n",
        "regressor.fit(X_train, y_train)"
      ]
    },
    {
      "cell_type": "markdown",
      "metadata": {
        "id": "pm2oTB6bIa7Y"
      },
      "source": [
        "# Predict results"
      ]
    },
    {
      "cell_type": "code",
      "execution_count": 30,
      "metadata": {
        "id": "tbxSef_igmhZ"
      },
      "outputs": [],
      "source": [
        "# Prediction result\n",
        "y_pred_test = regressor.predict(X_test)     # predicted value of y_test\n",
        "y_pred_train = regressor.predict(X_train)   # predicted value of y_train"
      ]
    },
    {
      "cell_type": "markdown",
      "metadata": {
        "id": "zB0HZZvZc4J4"
      },
      "source": [
        "# Visualize predictions"
      ]
    },
    {
      "cell_type": "markdown",
      "metadata": {
        "id": "uMmhHChPc-Xl"
      },
      "source": [
        "## Prediction on training set"
      ]
    },
    {
      "cell_type": "code",
      "execution_count": 31,
      "metadata": {
        "colab": {
          "base_uri": "https://localhost:8080/",
          "height": 295
        },
        "id": "l5s6VDRei_aO",
        "outputId": "b9894cc5-922b-48c9-f73f-0315a4d03989"
      },
      "outputs": [
        {
          "data": {
            "image/png": "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",
            "text/plain": [
              "<Figure size 640x480 with 1 Axes>"
            ]
          },
          "metadata": {},
          "output_type": "display_data"
        }
      ],
      "source": [
        "# Prediction on training set\n",
        "plt.scatter(X_train, y_train, color = 'lightcoral')\n",
        "plt.plot(X_train, y_pred_train, color = 'firebrick')\n",
        "plt.title('Salary vs Experience (Training Set)')\n",
        "plt.xlabel('Years of Experience')\n",
        "plt.ylabel('Salary')\n",
        "plt.legend(['X_train/Pred(y_test)', 'X_train/y_train'], title = 'Sal/Exp', loc='best', facecolor='white')\n",
        "plt.box(False)\n",
        "plt.show()"
      ]
    },
    {
      "cell_type": "markdown",
      "metadata": {
        "id": "T3Ebc-c1dDX_"
      },
      "source": [
        "## Prediction on test set"
      ]
    },
    {
      "cell_type": "code",
      "execution_count": 32,
      "metadata": {
        "colab": {
          "base_uri": "https://localhost:8080/",
          "height": 295
        },
        "id": "vyRmNZDxnYr4",
        "outputId": "0a4da9dd-d0b0-4438-f1d4-3382611dafe5"
      },
      "outputs": [
        {
          "data": {
            "image/png": "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",
            "text/plain": [
              "<Figure size 640x480 with 1 Axes>"
            ]
          },
          "metadata": {},
          "output_type": "display_data"
        }
      ],
      "source": [
        "# Prediction on test set\n",
        "plt.scatter(X_test, y_test, color = 'lightcoral')\n",
        "plt.plot(X_train, y_pred_train, color = 'firebrick')\n",
        "plt.title('Salary vs Experience (Test Set)')\n",
        "plt.xlabel('Years of Experience')\n",
        "plt.ylabel('Salary')\n",
        "plt.legend(['X_train/Pred(y_test)', 'X_train/y_train'], title = 'Sal/Exp', loc='best', facecolor='white')\n",
        "plt.box(False)\n",
        "plt.show()"
      ]
    },
    {
      "cell_type": "markdown",
      "metadata": {
        "id": "76Cwr_8TdJeZ"
      },
      "source": [
        "# Coefficient and Intercept"
      ]
    },
    {
      "cell_type": "code",
      "execution_count": 33,
      "metadata": {
        "colab": {
          "base_uri": "https://localhost:8080/"
        },
        "id": "lBxpCTs3xk2o",
        "outputId": "7b8d329f-4cc8-42a0-9cdb-4213693c0e52"
      },
      "outputs": [
        {
          "name": "stdout",
          "output_type": "stream",
          "text": [
            "Coefficient: [[2914.29199529]]\n",
            "Intercept: [6980.7057765]\n"
          ]
        }
      ],
      "source": [
        "# Regressor coefficients and intercept\n",
        "print(f'Coefficient: {regressor.coef_}')\n",
        "print(f'Intercept: {regressor.intercept_}')"
      ]
    }
  ],
  "metadata": {
    "colab": {
      "authorship_tag": "ABX9TyOdH5CxoG7cwH6EDVpdR+wC",
      "provenance": [],
      "toc_visible": true
    },
    "kernelspec": {
      "display_name": "Python 3",
      "name": "python3"
    },
    "language_info": {
      "codemirror_mode": {
        "name": "ipython",
        "version": 3
      },
      "file_extension": ".py",
      "mimetype": "text/x-python",
      "name": "python",
      "nbconvert_exporter": "python",
      "pygments_lexer": "ipython3",
      "version": "3.13.1"
    }
  },
  "nbformat": 4,
  "nbformat_minor": 0
}
